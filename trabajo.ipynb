{
 "cells": [
  {
   "cell_type": "markdown",
   "id": "11003c1e",
   "metadata": {},
   "source": [
    "La integración de la tecnología en el mundo del fútbol ha sido un tema de debate constante en los últimos años. Desde la introducción del Video Assistant Referee (VAR) hasta el uso de dispositivos de seguimiento y análisis de datos, la tecnología está transformando la forma en que se juega, se ve y se gestiona el deporte más popular del mundo. En este sentido, este ensayo explorará el impacto de la tecnología en el fútbol, analizando sus beneficios, desafíos y el papel que desempeña en la evolución continua del juego.\n"
   ]
  },
  {
   "cell_type": "markdown",
   "id": "dbcf3b95-ad8d-4f2a-8d52-39406d015803",
   "metadata": {},
   "source": [
    "<br><center>![imagen](https://media.licdn.com/dms/image/C5612AQHfh7XdKRKhBw/article-cover_image-shrink_600_2000/0/1547230370546?e=2147483647&v=beta&t=e3Nql83NijUJ_ETLRecsrksNMOROR_kG8u8FjHFzS8o)</center></br>"
   ]
  },
  {
   "cell_type": "markdown",
   "id": "cf30c57a",
   "metadata": {},
   "source": [
    "jnjnj\n"
   ]
  }
 ],
 "metadata": {
  "kernelspec": {
   "display_name": "Python 3 (ipykernel)",
   "language": "python",
   "name": "python3"
  },
  "language_info": {
   "codemirror_mode": {
    "name": "ipython",
    "version": 3
   },
   "file_extension": ".py",
   "mimetype": "text/x-python",
   "name": "python",
   "nbconvert_exporter": "python",
   "pygments_lexer": "ipython3",
   "version": "3.11.7"
  }
 },
 "nbformat": 4,
 "nbformat_minor": 5
}
